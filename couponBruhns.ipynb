{
 "cells": [
  {
   "cell_type": "markdown",
   "metadata": {},
   "source": [
    "### Will a Customer Accept the Coupon?\n",
    "\n",
    "**Overview**\n",
    "\n",
    "The goal of this project is to use what you know about visualizations and probability distributions to distinguish between customers who accepted a driving coupon versus those that did not.\n",
    "\n",
    "**Data**\n",
    "\n",
    "\n",
    "This data comes to us from the UCI Machine Learning repository and was collected via a survey on Amazon Mechanical Turk. The survey describes different driving scenarios including the destination, current time, weather, passenger, etc., and then ask the person whether he will accept the coupon if he is the driver. Answers that the user will drive there ‘right away’ or ‘later before the coupon expires’ are labeled as ‘Y = 1’ and answers ‘no, I do not want the coupon’ are labeled as ‘Y = 0’.  There are five different types of coupons -- less expensive restaurants (under \\\\$20), coffee houses, carry out & take away, bar, and more expensive restaurants (\\\\$20 - \\\\$50). "
   ]
  },
  {
   "cell_type": "markdown",
   "metadata": {},
   "source": [
    "**Deliverables**\n",
    "\n",
    "Your final product should be a brief report that highlights the differences between customers who did and did not accept the coupons.  To explore the data you will utilize your knowledge of plotting, statistical summaries, and visualization using Python. You will publish your findings in a public facing github repository as your first portfolio piece. \n",
    "\n",
    "\n",
    "\n"
   ]
  },
  {
   "cell_type": "markdown",
   "metadata": {},
   "source": [
    "### Data Description\n",
    "\n",
    "The attributes of this data set include:\n",
    "1. User attributes\n",
    "    -  Gender: male, female\n",
    "    -  Age: below 21, 21 to 25, 26 to 30, etc.\n",
    "    -  Marital Status: single, married partner, unmarried partner, or widowed\n",
    "    -  Number of children: 0, 1, or more than 1\n",
    "    -  Education: high school, bachelors degree, associates degree, or graduate degree\n",
    "    -  Occupation: architecture & engineering, business & financial, etc.\n",
    "    -  Annual income: less than \\\\$12500, \\\\$12500 - \\\\$24999, \\\\$25000 - \\\\$37499, etc.\n",
    "    -  Number of times that he/she goes to a bar: 0, less than 1, 1 to 3, 4 to 8 or greater than 8\n",
    "    -  Number of times that he/she buys takeaway food: 0, less than 1, 1 to 3, 4 to 8 or greater\n",
    "    than 8\n",
    "    -  Number of times that he/she goes to a coffee house: 0, less than 1, 1 to 3, 4 to 8 or\n",
    "    greater than 8\n",
    "    -  Number of times that he/she eats at a restaurant with average expense less than \\\\$20 per\n",
    "    person: 0, less than 1, 1 to 3, 4 to 8 or greater than 8\n",
    "    -  Number of times that he/she goes to a bar: 0, less than 1, 1 to 3, 4 to 8 or greater than 8\n",
    "\n",
    "2. Contextual attributes\n",
    "    - Driving destination: home, work, or no urgent destination\n",
    "    - Location of user, coupon and destination: we provide a map to show the geographical\n",
    "    location of the user, destination, and the venue, and we mark the distance between each\n",
    "    two places with time of driving. The user can see whether the venue is in the same\n",
    "    direction as the destination.\n",
    "    - Weather: sunny, rainy, or snowy\n",
    "    - Temperature: 30F, 55F, or 80F\n",
    "    - Time: 10AM, 2PM, or 6PM\n",
    "    - Passenger: alone, partner, kid(s), or friend(s)\n",
    "\n",
    "3. Coupon attributes\n",
    "    - time before it expires: 2 hours or one day"
   ]
  },
  {
   "cell_type": "code",
   "execution_count": 1,
   "metadata": {},
   "outputs": [],
   "source": [
    "import matplotlib.pyplot as plt\n",
    "import seaborn as sns\n",
    "import pandas as pd\n",
    "import numpy as np"
   ]
  },
  {
   "cell_type": "markdown",
   "metadata": {},
   "source": [
    "### Problems\n",
    "\n",
    "Use the prompts below to get started with your data analysis.  \n",
    "\n",
    "1. Read in the `coupons.csv` file.\n",
    "\n",
    "\n"
   ]
  },
  {
   "cell_type": "code",
   "execution_count": 2,
   "metadata": {},
   "outputs": [],
   "source": [
    "data = pd.read_csv('data/coupons.csv')"
   ]
  },
  {
   "cell_type": "code",
   "execution_count": 3,
   "metadata": {},
   "outputs": [
    {
     "name": "stdout",
     "output_type": "stream",
     "text": [
      "<class 'pandas.core.frame.DataFrame'>\n",
      "RangeIndex: 12684 entries, 0 to 12683\n",
      "Data columns (total 26 columns):\n",
      " #   Column                Non-Null Count  Dtype \n",
      "---  ------                --------------  ----- \n",
      " 0   destination           12684 non-null  object\n",
      " 1   passanger             12684 non-null  object\n",
      " 2   weather               12684 non-null  object\n",
      " 3   temperature           12684 non-null  int64 \n",
      " 4   time                  12684 non-null  object\n",
      " 5   coupon                12684 non-null  object\n",
      " 6   expiration            12684 non-null  object\n",
      " 7   gender                12684 non-null  object\n",
      " 8   age                   12684 non-null  object\n",
      " 9   maritalStatus         12684 non-null  object\n",
      " 10  has_children          12684 non-null  int64 \n",
      " 11  education             12684 non-null  object\n",
      " 12  occupation            12684 non-null  object\n",
      " 13  income                12684 non-null  object\n",
      " 14  car                   108 non-null    object\n",
      " 15  Bar                   12577 non-null  object\n",
      " 16  CoffeeHouse           12467 non-null  object\n",
      " 17  CarryAway             12533 non-null  object\n",
      " 18  RestaurantLessThan20  12554 non-null  object\n",
      " 19  Restaurant20To50      12495 non-null  object\n",
      " 20  toCoupon_GEQ5min      12684 non-null  int64 \n",
      " 21  toCoupon_GEQ15min     12684 non-null  int64 \n",
      " 22  toCoupon_GEQ25min     12684 non-null  int64 \n",
      " 23  direction_same        12684 non-null  int64 \n",
      " 24  direction_opp         12684 non-null  int64 \n",
      " 25  Y                     12684 non-null  int64 \n",
      "dtypes: int64(8), object(18)\n",
      "memory usage: 2.5+ MB\n"
     ]
    }
   ],
   "source": [
    "data.info()"
   ]
  },
  {
   "cell_type": "markdown",
   "metadata": {},
   "source": [
    "2. Investigate the dataset for missing or problematic data."
   ]
  },
  {
   "cell_type": "code",
   "execution_count": 4,
   "metadata": {},
   "outputs": [
    {
     "data": {
      "text/plain": [
       "destination                 0\n",
       "passanger                   0\n",
       "weather                     0\n",
       "temperature                 0\n",
       "time                        0\n",
       "coupon                      0\n",
       "expiration                  0\n",
       "gender                      0\n",
       "age                         0\n",
       "maritalStatus               0\n",
       "has_children                0\n",
       "education                   0\n",
       "occupation                  0\n",
       "income                      0\n",
       "car                     12576\n",
       "Bar                       107\n",
       "CoffeeHouse               217\n",
       "CarryAway                 151\n",
       "RestaurantLessThan20      130\n",
       "Restaurant20To50          189\n",
       "toCoupon_GEQ5min            0\n",
       "toCoupon_GEQ15min           0\n",
       "toCoupon_GEQ25min           0\n",
       "direction_same              0\n",
       "direction_opp               0\n",
       "Y                           0\n",
       "dtype: int64"
      ]
     },
     "execution_count": 4,
     "metadata": {},
     "output_type": "execute_result"
    }
   ],
   "source": [
    "data.isna().sum()\n"
   ]
  },
  {
   "cell_type": "markdown",
   "metadata": {},
   "source": [
    "3. Decide what to do about your missing data -- drop, replace, other..."
   ]
  },
  {
   "cell_type": "markdown",
   "metadata": {},
   "source": [
    "We will drop the car collumn since the number of null entires is almost the entire data set. "
   ]
  },
  {
   "cell_type": "code",
   "execution_count": 5,
   "metadata": {},
   "outputs": [],
   "source": [
    "clean=data.drop('car',axis=1)#drops the entire column labled \"car\" "
   ]
  },
  {
   "cell_type": "code",
   "execution_count": 6,
   "metadata": {},
   "outputs": [
    {
     "name": "stdout",
     "output_type": "stream",
     "text": [
      "there will be 12079 rows remaining\n"
     ]
    }
   ],
   "source": [
    "get_na_count=clean.dropna()#drops unusable values\n",
    "print(\"there will be \"+str(len(get_na_count))+\" rows remaining\")#counts remaining rows and prints result"
   ]
  },
  {
   "cell_type": "markdown",
   "metadata": {},
   "source": [
    "Dropping all of the NA data leaves us with a significant amount to work with so we will drop the remaining NA values from the set"
   ]
  },
  {
   "cell_type": "code",
   "execution_count": 7,
   "metadata": {},
   "outputs": [],
   "source": [
    "clean=data.dropna()#drops all remaining unusable rows while preserving original"
   ]
  },
  {
   "cell_type": "markdown",
   "metadata": {},
   "source": [
    "4. What proportion of the total observations chose to accept the coupon? \n",
    "\n"
   ]
  },
  {
   "cell_type": "markdown",
   "metadata": {},
   "source": [
    "The description above tells us that a 1 in the Y column indicates coupon acceptance. We will use that to compute a percentage of total respondants. To get total respondants we use the original dataset since we have dropped some rows in our original set."
   ]
  },
  {
   "cell_type": "code",
   "execution_count": 8,
   "metadata": {},
   "outputs": [
    {
     "name": "stdout",
     "output_type": "stream",
     "text": [
      "57% of coupons were accepted\n"
     ]
    }
   ],
   "source": [
    "percent_cupon=data.Y.value_counts()[1]/len(data)#calculates percentage\n",
    "print( \"{:.0%}\".format(percent_cupon)+\" of coupons were accepted\")#prints calculatoin in human readable format"
   ]
  },
  {
   "cell_type": "markdown",
   "metadata": {},
   "source": [
    "5. Use a bar plot to visualize the `coupon` column."
   ]
  },
  {
   "cell_type": "code",
   "execution_count": 9,
   "metadata": {},
   "outputs": [
    {
     "data": {
      "image/png": "[encoded data removed]",
      "text/plain": [
       "<Figure size 432x288 with 1 Axes>"
      ]
     },
     "metadata": {
      "needs_background": "light"
     },
     "output_type": "display_data"
    }
   ],
   "source": [
    "coupon_plot=clean['coupon'].value_counts().plot.bar(rot=45);\n",
    "coupon_plot.set_xlabel(\"Coupon Types\")\n",
    "coupon_plot.set_ylabel(\"Count\")\n",
    "coupon_plot.set_title('Count of Coupon Types')\n",
    "coupon_plot;"
   ]
  },
  {
   "cell_type": "markdown",
   "metadata": {},
   "source": [
    "6. Use a histogram to visualize the temperature column."
   ]
  },
  {
   "cell_type": "code",
   "execution_count": 10,
   "metadata": {},
   "outputs": [
    {
     "data": {
      "image/png": "[encoded data removed]",
      "text/plain": [
       "<Figure size 432x288 with 1 Axes>"
      ]
     },
     "metadata": {
      "needs_background": "light"
     },
     "output_type": "display_data"
    }
   ],
   "source": [
    "clean_Y = clean[clean['Y'] == 1] #gets only those who accepted coupon\n",
    "clean_N= clean[clean['Y'] == 0] #gets those who did not accept coupn\n",
    "plt.hist([clean_Y['temperature'], clean_N['temperature']], bins = 6, color =('teal','orange'), label=(\"yes\", \"no\"))#makes plot\n",
    "plt.legend(loc='best')#places legend\n",
    "plt.title('Coupon Acceptance By Temperature')\n",
    "plt.xlabel('Temperature')\n",
    "plt.ylabel('Count')\n",
    "plt.show()"
   ]
  },
  {
   "cell_type": "markdown",
   "metadata": {},
   "source": [
    "The ratio of yes to no seems fairly consistant regardless of temperature"
   ]
  },
  {
   "cell_type": "markdown",
   "metadata": {},
   "source": [
    "**Investigating the Bar Coupons**\n",
    "\n",
    "Now, we will lead you through an exploration of just the bar related coupons.  \n",
    "\n",
    "1. Create a new `DataFrame` that contains just the bar coupons.\n"
   ]
  },
  {
   "cell_type": "code",
   "execution_count": 11,
   "metadata": {},
   "outputs": [],
   "source": [
    "Bar_coupons=data[data['coupon'] == 'Bar'] #pulls only bar cupons using original data to mitigate effects from the dropna()"
   ]
  },
  {
   "cell_type": "markdown",
   "metadata": {},
   "source": [
    "2. What proportion of bar coupons were accepted?\n"
   ]
  },
  {
   "cell_type": "code",
   "execution_count": 12,
   "metadata": {},
   "outputs": [
    {
     "name": "stdout",
     "output_type": "stream",
     "text": [
      "41% of bar coupons were accepted \n"
     ]
    }
   ],
   "source": [
    "Bar_percent=len(Bar_coupons[Bar_coupons['Y']==1])/len(Bar_coupons)#calulates percentage of acceptance\n",
    "print( \"{:.0%}\".format(Bar_percent)+' of bar coupons were accepted ')#prints calculatoin in human readable format"
   ]
  },
  {
   "cell_type": "markdown",
   "metadata": {},
   "source": [
    "3. Compare the acceptance rate between those who went to a bar 3 or fewer times a month to those who went more.\n"
   ]
  },
  {
   "cell_type": "code",
   "execution_count": 13,
   "metadata": {},
   "outputs": [
    {
     "data": {
      "image/png": "[encoded data removed]",
      "text/plain": [
       "<Figure size 360x360 with 1 Axes>"
      ]
     },
     "metadata": {
      "needs_background": "light"
     },
     "output_type": "display_data"
    }
   ],
   "source": [
    "filters = [(data['Bar'].isin( ['never','less1','1~3'])),(data['Bar'].isin( ['gt8','4-8']))]#filters to group the values\n",
    "values = [\"Infrequnet\", \"Frequent\"]#human readable replacement values \n",
    "data[\"Bar_freq\"] = np.select(filters, values,default=\"unkown\") #creates a new collumn for plotting with the readable values\n",
    "#make plot\n",
    "bar_freq_plot=sns.catplot(y=\"Bar_freq\", hue=\"Y\", kind=\"count\",legend = False,palette=\"pastel\", edgecolor=\".6\",data=data)\n",
    "bar_freq_plot.set( xlabel = \"Count\", ylabel = \"Bar Frequency\")#label\n",
    "plt.legend(title='Coupon', loc='best', labels=['yes', 'no']);#make legend"
   ]
  },
  {
   "cell_type": "markdown",
   "metadata": {},
   "source": [
    "This graph compares the acceptance rate users who are known to frequent bars 3 times or more a month against those who visit bars less frequently. Below we can see that data numerically where 1 represents accpetance. "
   ]
  },
  {
   "cell_type": "code",
   "execution_count": 14,
   "metadata": {},
   "outputs": [
    {
     "name": "stdout",
     "output_type": "stream",
     "text": [
      "                 Y  percent\n",
      "Bar_freq   Y               \n",
      "Frequent   0   148     0.42\n",
      "           1   201     0.58\n",
      "Infrequnet 0  4884     0.44\n",
      "           1  6268     0.56\n",
      "unkown     0   442     0.37\n",
      "           1   741     0.63\n"
     ]
    }
   ],
   "source": [
    "bar_freq_numerical= pd.DataFrame(data.groupby(['Bar_freq','Y'])['Y'].count())#sorts the numerical data into something readable\n",
    "bar_freq_numerical['percent'] = bar_freq_numerical.groupby(level=0).transform(lambda x: (x / x.sum()).round(2))\n",
    "print(bar_freq_numerical)\n"
   ]
  },
  {
   "cell_type": "markdown",
   "metadata": {},
   "source": [
    "4. Compare the acceptance rate between drivers who go to a bar more than once a month and are over the age of 25 to the all others.  Is there a difference?\n"
   ]
  },
  {
   "cell_type": "code",
   "execution_count": 15,
   "metadata": {},
   "outputs": [
    {
     "name": "stdout",
     "output_type": "stream",
     "text": [
      "<class 'numpy.int32'>\n"
     ]
    }
   ],
   "source": [
    "data.age.replace('50plus','50',inplace=True) #replaces unsable string with approximation data\n",
    "data.age.replace('below21','20',inplace=True) #replaces unusable string with approximation data\n",
    "data['age']=data.age.astype(int)\n",
    "print(type(data['age'][1]))"
   ]
  },
  {
   "cell_type": "code",
   "execution_count": 16,
   "metadata": {},
   "outputs": [
    {
     "name": "stdout",
     "output_type": "stream",
     "text": [
      "62% of bar coupons were accepted for this population\n"
     ]
    }
   ],
   "source": [
    "Bar_over_25 = pd.merge(data[ (data['age']>25)], data[(data['Bar'].isin(['1~3','gt8','4-8']))])#creates a new dataframe with the new population\n",
    "Bar_over_25_percent=len(Bar_over_25[Bar_over_25['Y']==1])/len(Bar_over_25)#calulates percentage of acceptance\n",
    "print( \"{:.0%}\".format(Bar_over_25_percent)+' of bar coupons were accepted for this population')#prints calculatoin in human readable format"
   ]
  },
  {
   "cell_type": "code",
   "execution_count": 17,
   "metadata": {},
   "outputs": [
    {
     "data": {
      "image/png": "[encoded data removed]",
      "text/plain": [
       "<Figure size 432x288 with 1 Axes>"
      ]
     },
     "metadata": {
      "needs_background": "light"
     },
     "output_type": "display_data"
    }
   ],
   "source": [
    "#make plot\n",
    "over25plot=sns.countplot(x=\"Y\", data=Bar_over_25)\n",
    "over25plot.set( xlabel = \"acceptance\", ylabel = \"count\");#label\n"
   ]
  },
  {
   "cell_type": "markdown",
   "metadata": {},
   "source": [
    "5. Construct a null and alternative hypothesis for the difference between groups of drivers who go to a bar more than once a month and are over the age of 25 to all other drivers. "
   ]
  },
  {
   "cell_type": "code",
   "execution_count": 18,
   "metadata": {},
   "outputs": [],
   "source": [
    "def null_test(sample,pop,alpha):#create null hypothesis test\n",
    "    if alpha>abs(pop-sample): #checks if the absolute value of the difference between populations is less that the threshold\n",
    "        print(\"null hypotheseis accepted, sample is statistically similar to the population\")\n",
    "    else :\n",
    "        print(\"alternative hypothesis accepted the sample is statistically distinct from the population\")    \n"
   ]
  },
  {
   "cell_type": "markdown",
   "metadata": {},
   "source": [
    "6. Using alpha at 0.05 test your hypothesis and state your conclusion."
   ]
  },
  {
   "cell_type": "code",
   "execution_count": 19,
   "metadata": {},
   "outputs": [
    {
     "name": "stdout",
     "output_type": "stream",
     "text": [
      "null hypotheseis accepted, sample is statistically similar to the population\n"
     ]
    }
   ],
   "source": [
    "alpha=.05#set threshold\n",
    "sample=Bar_over_25_percent#set sample \n",
    "pop=percent_cupon#set total population\n",
    "null_test(sample,pop,alpha)#call the null hypothesis test"
   ]
  },
  {
   "cell_type": "markdown",
   "metadata": {},
   "source": [
    "7. Use the same process to compare the acceptance rate between drivers who go to bars more than once a month and had passengers that were not a kid and had occupations other than farming, fishing, or forestry. \n"
   ]
  },
  {
   "cell_type": "code",
   "execution_count": 20,
   "metadata": {},
   "outputs": [
    {
     "name": "stdout",
     "output_type": "stream",
     "text": [
      "62% of bar coupons were accepted for this population\n"
     ]
    }
   ],
   "source": [
    "problem_7df= pd.merge(pd.merge(\n",
    "data[(data['passanger'].str.contains('Kid\\(s\\)')==False)],\n",
    "data[(data['occupation'].str.contains('Farming Fishing & Forestry')==False)]),\n",
    "data[(data['Bar'].isin(['1~3','gt8','4-8']))])#creates a new dataframe with the new population\n",
    "problem_7_percent=len(problem_7df[problem_7df['Y']==1])/len(problem_7df)#calulates percentage of acceptance\n",
    "print( \"{:.0%}\".format(problem_7_percent)+' of bar coupons were accepted for this population')#prints calculatoin in human readable format"
   ]
  },
  {
   "cell_type": "code",
   "execution_count": 21,
   "metadata": {},
   "outputs": [
    {
     "name": "stdout",
     "output_type": "stream",
     "text": [
      "alternative hypothesis accepted the sample is statistically distinct from the population\n"
     ]
    }
   ],
   "source": [
    "alpha=.05#set threshold\n",
    "sample=problem_7_percent#set sample \n",
    "pop=percent_cupon#set total population\n",
    "null_test(sample,pop,alpha)#call the null hypothesis test"
   ]
  },
  {
   "cell_type": "markdown",
   "metadata": {},
   "source": [
    "8. Compare the acceptance rates between those passengers who:\n",
    "\n",
    "- go to bars more than once a month, had passengers that were not a kid, and were not widowed *OR*\n",
    "- go to bars more than once a month and are under the age of 30 *OR*\n",
    "- go to cheap restaurants more than 4 times a month and income is less than 50K. \n",
    "\n"
   ]
  },
  {
   "cell_type": "code",
   "execution_count": 22,
   "metadata": {},
   "outputs": [
    {
     "name": "stdout",
     "output_type": "stream",
     "text": [
      "62% of bar coupons were accepted for this population\n"
     ]
    }
   ],
   "source": [
    "problem_8df= data[(\n",
    "((data['Bar'].isin(['1~3','gt8','4-8']))&\n",
    "(data['passanger'].str.contains('Kid\\(s\\)')==False)&\n",
    "(data['passanger'].str.contains('widowed')==False))|\n",
    "((data['Bar'].isin(['1~3','gt8','4-8']))&\n",
    "(data['age']<30))|\n",
    "((data['RestaurantLessThan20'].isin(['$12500 - $24999', '$25000 - $37499', 'Less than $12500', '$37500 - $49999']))&\n",
    "(data['income'].isin(['4~8', '1~3', 'less1', 'gt8'])))\n",
    ")]#creates a new dataframe with the new population\n",
    "problem_8_percent=len(problem_8df[problem_8df['Y']==1])/len(problem_8df)#calulates percentage of acceptance\n",
    "print( \"{:.0%}\".format(problem_8_percent)+' of bar coupons were accepted for this population')#prints calculatoin in human readable format"
   ]
  },
  {
   "cell_type": "code",
   "execution_count": 23,
   "metadata": {},
   "outputs": [
    {
     "name": "stdout",
     "output_type": "stream",
     "text": [
      "alternative hypothesis accepted the sample is statistically distinct from the population\n"
     ]
    }
   ],
   "source": [
    "alpha=.05#set threshold\n",
    "sample=problem_8_percent#set sample \n",
    "pop=percent_cupon#set total population\n",
    "null_test(sample,pop,alpha)#call the null hypothesis test"
   ]
  },
  {
   "cell_type": "markdown",
   "metadata": {},
   "source": [
    "9.  Based on these observations, what do you hypothesize about passengers who accepted the bar coupons?"
   ]
  },
  {
   "cell_type": "markdown",
   "metadata": {},
   "source": [
    "From the tests we have performed we have found some populations which exceed the threshold for statistical significance. Given that the variance of our sample populations within the bar cupon population was less than 1% and that the ratio of all bar cupons accepted was more than 20% lower than our samples I conclude that there is some population with a much lower acceptance rate which we have not yet discovered."
   ]
  },
  {
   "cell_type": "markdown",
   "metadata": {},
   "source": [
    "### Independent Investigation\n",
    "\n",
    "Using the bar coupon example as motivation, you are to explore one of the other coupon groups and try to determine the characteristics of passengers who accept the coupons.  "
   ]
  },
  {
   "cell_type": "code",
   "execution_count": 24,
   "metadata": {},
   "outputs": [],
   "source": [
    "coffee=data[(data['coupon'].str.contains('Coffee House'))]# selects coffee coupons"
   ]
  },
  {
   "cell_type": "code",
   "execution_count": 25,
   "metadata": {},
   "outputs": [],
   "source": [
    "coffee=coffee.drop(['Bar','CoffeeHouse','CarryAway', 'RestaurantLessThan20','Restaurant20To50','car'],axis=1)#drops junk"
   ]
  },
  {
   "cell_type": "code",
   "execution_count": 26,
   "metadata": {},
   "outputs": [],
   "source": [
    "from sklearn.preprocessing import OneHotEncoder# converts all values to numeric\n",
    "encoder=OneHotEncoder(sparse=False,drop=\"if_binary\")\n",
    "for column in coffee:\n",
    "    if coffee.dtypes[column]=='object':\n",
    "        coffee_encoded = pd.DataFrame (encoder.fit_transform(coffee[[column]]))\n",
    "        coffee_encoded.columns = encoder.get_feature_names([column])\n",
    "        coffee.drop([column] ,axis=1, inplace=True)\n",
    "        coffee= pd.concat([coffee_encoded, coffee ], axis=1)"
   ]
  },
  {
   "cell_type": "code",
   "execution_count": 27,
   "metadata": {},
   "outputs": [],
   "source": [
    "coffee_corr=coffee.corr()# gets correlation for all features"
   ]
  },
  {
   "cell_type": "code",
   "execution_count": 28,
   "metadata": {},
   "outputs": [
    {
     "name": "stdout",
     "output_type": "stream",
     "text": [
      "Y                                                  1.000000\n",
      "time_10AM                                          0.156659\n",
      "passanger_Friend(s)                                0.119381\n",
      "expiration_1d                                      0.114970\n",
      "occupation_Student                                 0.099011\n",
      "occupation_Healthcare Practitioners & Technical    0.075399\n",
      "Name: Y, dtype: float64\n"
     ]
    }
   ],
   "source": [
    "print (coffee_corr.sort_values('Y', ascending=False)['Y'].head(6)) #Displays top 5 features "
   ]
  },
  {
   "cell_type": "markdown",
   "metadata": {},
   "source": [
    "The above list shows the 5 features which most strongly correlate to coupon acceptance and their correlation coefficient."
   ]
  }
 ],
 "metadata": {
  "kernelspec": {
   "display_name": "Python 3 (ipykernel)",
   "language": "python",
   "name": "python3"
  },
  "language_info": {
   "codemirror_mode": {
    "name": "ipython",
    "version": 3
   },
   "file_extension": ".py",
   "mimetype": "text/x-python",
   "name": "python",
   "nbconvert_exporter": "python",
   "pygments_lexer": "ipython3",
   "version": "3.9.7"
  },
  "widgets": {
   "application/vnd.jupyter.widget-state+json": {
    "state": {},
    "version_major": 2,
    "version_minor": 0
   }
  }
 },
 "nbformat": 4,
 "nbformat_minor": 4
}
